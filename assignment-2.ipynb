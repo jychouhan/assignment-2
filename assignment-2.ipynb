{
 "cells": [
  {
   "cell_type": "code",
   "execution_count": 1,
   "id": "7d43f7a0-4f77-4d91-9654-ef14b9cec4db",
   "metadata": {},
   "outputs": [],
   "source": [
    "# Answer 1"
   ]
  },
  {
   "cell_type": "code",
   "execution_count": 4,
   "id": "fe755c5f-54cd-485b-8cf3-ddaab1a6282f",
   "metadata": {},
   "outputs": [
    {
     "data": {
      "text/plain": [
       "' In python we comment code using # character.There are three types of comments:\\n    1. single line comment :- use # character at the beginning\\n    2. inline comment :- use # character to add comment at the end of a line of code\\n    3. multiline comment :- use triple quotes at the beginning and end of the comment to store \\n       multiple lines of commment.'"
      ]
     },
     "execution_count": 4,
     "metadata": {},
     "output_type": "execute_result"
    }
   ],
   "source": [
    "\"\"\" In python we comment code using # character.There are three types of comments:\n",
    "    1. single line comment :- use # character at the beginning\n",
    "    2. inline comment :- use # character to add comment at the end of a line of code\n",
    "    3. multiline comment :- use triple quotes at the beginning and end of the comment to store \n",
    "       multiple lines of commment.\"\"\""
   ]
  },
  {
   "cell_type": "code",
   "execution_count": 29,
   "id": "804f5559-d913-4a5e-a974-bd3d357f61a2",
   "metadata": {},
   "outputs": [],
   "source": [
    "# Answer 2"
   ]
  },
  {
   "cell_type": "code",
   "execution_count": 5,
   "id": "3ca8a98d-b236-4dcd-ac52-db161ec904af",
   "metadata": {},
   "outputs": [
    {
     "data": {
      "text/plain": [
       "' variables :- variables are used to store data value. we assign a value to variable.\\n    it must start with a letter or underscore(_).\\n    example :- name = \"kanika\"\\n    here \"name\" is a varible and assigns the value \"kanika\" to age variable'"
      ]
     },
     "execution_count": 5,
     "metadata": {},
     "output_type": "execute_result"
    }
   ],
   "source": [
    "\"\"\" variables :- variables are used to store data value. we assign a value to variable.\n",
    "    it must start with a letter or underscore(_).\n",
    "    example :- name = \"kanika\"\n",
    "    here \"name\" is a varible and assigns the value \"kanika\" to age variable\"\"\""
   ]
  },
  {
   "cell_type": "code",
   "execution_count": 6,
   "id": "02e76ead-fe3a-4800-b92e-5328c452793d",
   "metadata": {},
   "outputs": [],
   "source": [
    "# Answer 3"
   ]
  },
  {
   "cell_type": "code",
   "execution_count": 12,
   "id": "b6a080e5-6f1c-4705-ab82-cd2f7050e71d",
   "metadata": {},
   "outputs": [
    {
     "data": {
      "text/plain": [
       "5"
      ]
     },
     "execution_count": 12,
     "metadata": {},
     "output_type": "execute_result"
    }
   ],
   "source": [
    "# There are inbuilt functions to convert one datatype to another.\n",
    "# example:- int(), float(), bool(), str() etc.\n",
    "a = 5.5\n",
    "int(a)"
   ]
  },
  {
   "cell_type": "code",
   "execution_count": 8,
   "id": "9e77a47b-4e38-49dd-a4d1-e223e10fa011",
   "metadata": {},
   "outputs": [
    {
     "data": {
      "text/plain": [
       "6.0"
      ]
     },
     "execution_count": 8,
     "metadata": {},
     "output_type": "execute_result"
    }
   ],
   "source": [
    "b = 6 \n",
    "float(b)"
   ]
  },
  {
   "cell_type": "code",
   "execution_count": 9,
   "id": "806afe74-f358-48a3-925b-e00715481a7f",
   "metadata": {},
   "outputs": [
    {
     "data": {
      "text/plain": [
       "True"
      ]
     },
     "execution_count": 9,
     "metadata": {},
     "output_type": "execute_result"
    }
   ],
   "source": [
    "c = 1\n",
    "bool(c)"
   ]
  },
  {
   "cell_type": "code",
   "execution_count": 30,
   "id": "7204d5fb-1336-4d36-bd28-74c2182b7f44",
   "metadata": {},
   "outputs": [],
   "source": [
    "# Answer 4"
   ]
  },
  {
   "cell_type": "code",
   "execution_count": 37,
   "id": "fe5de1a3-aae0-4ee3-8b9f-c93feeb3b45a",
   "metadata": {},
   "outputs": [],
   "source": [
    "#     1. Open a text editor and create a new file.\n",
    "#     2. Write your Python code in the text editor and save the file with a `.py` extension. For example,\n",
    "#        `my_script.py`.\n",
    "#     3. Open a command prompt or terminal.\n",
    "#     4. Navigate to the directory where the Python script is saved using the `cd` command. For example,\n",
    "#        if the script is saved in the `C:\\Users\\Username\\Documents` folder, use `cd C:\\Users\\Username\\Documents`.\n",
    "#     5. Once you are in the correct directory, you can execute the Python script by typing `python` followed by \n",
    "#        the scripts file name. For example, `python my_script.py`. \n"
   ]
  },
  {
   "cell_type": "code",
   "execution_count": 38,
   "id": "23648747-27a6-4465-8b8a-9a2a2082c266",
   "metadata": {},
   "outputs": [],
   "source": [
    "# Answer 5"
   ]
  },
  {
   "cell_type": "code",
   "execution_count": 11,
   "id": "402449b8-f3ad-47e3-94ad-a521328d644f",
   "metadata": {},
   "outputs": [
    {
     "name": "stdout",
     "output_type": "stream",
     "text": [
      "[2, 3]\n"
     ]
    }
   ],
   "source": [
    "my_list = [1,2,3,4,5]\n",
    "sub_list = my_list[1:3]\n",
    "print(sub_list)"
   ]
  },
  {
   "cell_type": "code",
   "execution_count": 13,
   "id": "9aec41a2-b183-4f25-9f8f-e62928de7d7a",
   "metadata": {},
   "outputs": [],
   "source": [
    "# Answer 6"
   ]
  },
  {
   "cell_type": "code",
   "execution_count": 39,
   "id": "e259c911-dc76-410b-8509-445db49d2183",
   "metadata": {},
   "outputs": [
    {
     "data": {
      "text/plain": [
       "complex"
      ]
     },
     "execution_count": 39,
     "metadata": {},
     "output_type": "execute_result"
    }
   ],
   "source": [
    "\"\"\"complex numbers are represented using the complex data types.\n",
    "A complex number is in the form (a+bj) where a is real number and b is imaginary number\n",
    "and j represents the square root of a negative number.\"\"\"\n",
    "# example:-\n",
    "d = 5+3j\n",
    "type(d)"
   ]
  },
  {
   "cell_type": "code",
   "execution_count": 40,
   "id": "0a137b27-86a8-4692-92d1-9d59dd96e81b",
   "metadata": {},
   "outputs": [],
   "source": [
    "# Answer 7"
   ]
  },
  {
   "cell_type": "code",
   "execution_count": 41,
   "id": "d6b033cc-dfa1-4896-8535-0b750735539b",
   "metadata": {},
   "outputs": [],
   "source": [
    "age = 25"
   ]
  },
  {
   "cell_type": "code",
   "execution_count": 42,
   "id": "fd98adab-d497-4565-babe-997212b9880b",
   "metadata": {},
   "outputs": [],
   "source": [
    "# Answer 8"
   ]
  },
  {
   "cell_type": "code",
   "execution_count": 43,
   "id": "6278656f-7d98-4c97-bd1f-edaded89ef24",
   "metadata": {},
   "outputs": [],
   "source": [
    "price = 9.99"
   ]
  },
  {
   "cell_type": "code",
   "execution_count": 44,
   "id": "867aec58-92eb-44cd-a924-30f2517561fc",
   "metadata": {},
   "outputs": [
    {
     "data": {
      "text/plain": [
       "float"
      ]
     },
     "execution_count": 44,
     "metadata": {},
     "output_type": "execute_result"
    }
   ],
   "source": [
    "type(price)"
   ]
  },
  {
   "cell_type": "code",
   "execution_count": 45,
   "id": "3bec729e-0220-4883-8466-99a4e8506557",
   "metadata": {},
   "outputs": [],
   "source": [
    "# Answer 9"
   ]
  },
  {
   "cell_type": "code",
   "execution_count": 46,
   "id": "6737bda4-c1a1-4bf8-ba95-5105a4e24056",
   "metadata": {},
   "outputs": [],
   "source": [
    "# we will give value to variable in double quote(\"\") to write as string.\n",
    "Name = \"jyoti chouhan\""
   ]
  },
  {
   "cell_type": "code",
   "execution_count": 47,
   "id": "d213780c-df36-4604-a73d-2ebafe884df7",
   "metadata": {},
   "outputs": [
    {
     "data": {
      "text/plain": [
       "str"
      ]
     },
     "execution_count": 47,
     "metadata": {},
     "output_type": "execute_result"
    }
   ],
   "source": [
    "type(Name)"
   ]
  },
  {
   "cell_type": "code",
   "execution_count": 48,
   "id": "19d4ca5f-19b0-4344-86dc-239857af9641",
   "metadata": {},
   "outputs": [],
   "source": [
    "# Answer 10"
   ]
  },
  {
   "cell_type": "code",
   "execution_count": 49,
   "id": "21e43fa4-ea47-45ca-b5a3-7b5c64c4aae3",
   "metadata": {},
   "outputs": [],
   "source": [
    "string = \"hello world!\""
   ]
  },
  {
   "cell_type": "code",
   "execution_count": 50,
   "id": "e44d633b-c4aa-4bc6-9145-fe1ec6caf1c5",
   "metadata": {},
   "outputs": [
    {
     "name": "stdout",
     "output_type": "stream",
     "text": [
      "world!\n"
     ]
    }
   ],
   "source": [
    "substring = string[6:]\n",
    "print(substring)"
   ]
  },
  {
   "cell_type": "code",
   "execution_count": 51,
   "id": "f4ac94c5-e088-45c1-ba1c-653ab8bc4bf2",
   "metadata": {},
   "outputs": [],
   "source": [
    "# Answer 11"
   ]
  },
  {
   "cell_type": "code",
   "execution_count": 52,
   "id": "55e5af12-f0f4-49e4-9f25-763e4f1a595b",
   "metadata": {},
   "outputs": [
    {
     "name": "stdout",
     "output_type": "stream",
     "text": [
      "True\n"
     ]
    }
   ],
   "source": [
    "is_student = True\n",
    "print(is_student)"
   ]
  },
  {
   "cell_type": "code",
   "execution_count": null,
   "id": "260ac610-d8f8-4ad0-a7a0-9872d5197001",
   "metadata": {},
   "outputs": [],
   "source": []
  }
 ],
 "metadata": {
  "kernelspec": {
   "display_name": "Python 3 (ipykernel)",
   "language": "python",
   "name": "python3"
  },
  "language_info": {
   "codemirror_mode": {
    "name": "ipython",
    "version": 3
   },
   "file_extension": ".py",
   "mimetype": "text/x-python",
   "name": "python",
   "nbconvert_exporter": "python",
   "pygments_lexer": "ipython3",
   "version": "3.10.8"
  }
 },
 "nbformat": 4,
 "nbformat_minor": 5
}
